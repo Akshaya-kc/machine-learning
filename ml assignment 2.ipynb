{
 "cells": [
  {
   "cell_type": "code",
   "execution_count": 1,
   "id": "9772051c-8099-478a-8782-1c40a4fe8c99",
   "metadata": {},
   "outputs": [],
   "source": [
    "import pandas as pd\n",
    "import numpy as np\n",
    "import matplotlib.pyplot as plt\n",
    "import seaborn as sns\n",
    "from scipy.stats  import zscore,skew,normaltest\n",
    "\n",
    "df = pd.read_csv(\"C:\\\\Users\\\\USER\\\\Downloads\\\\Employee.csv\")\n"
   ]
  },
  {
   "cell_type": "code",
   "execution_count": 5,
   "id": "585bb5bb-53eb-4cba-9099-84a45caca496",
   "metadata": {},
   "outputs": [
    {
     "name": "stdout",
     "output_type": "stream",
     "text": [
      "First 10 rows of the dataset:\n",
      "   Company   Age  Salary     Place Country  Gender\n",
      "0      TCS  20.0     NaN   Chennai   India       0\n",
      "1  Infosys  30.0     NaN    Mumbai   India       0\n",
      "2      TCS  35.0  2300.0  Calcutta   India       0\n",
      "3  Infosys  40.0  3000.0     Delhi   India       0\n",
      "4      TCS  23.0  4000.0    Mumbai   India       0\n",
      "5  Infosys   NaN  5000.0  Calcutta   India       0\n",
      "6      TCS   NaN  6000.0   Chennai   India       1\n",
      "7  Infosys  23.0  7000.0    Mumbai   India       1\n",
      "8      TCS  34.0  8000.0  Calcutta   India       1\n",
      "9      CTS  45.0  9000.0     Delhi   India       0\n",
      "\n",
      "Number of rows and columns: (144, 6)\n",
      "\n",
      "Data Types and Missing Values:\n",
      "<class 'pandas.core.frame.DataFrame'>\n",
      "Index: 144 entries, 0 to 147\n",
      "Data columns (total 6 columns):\n",
      " #   Column   Non-Null Count  Dtype  \n",
      "---  ------   --------------  -----  \n",
      " 0   Company  136 non-null    object \n",
      " 1   Age      127 non-null    float64\n",
      " 2   Salary   121 non-null    float64\n",
      " 3   Place    130 non-null    object \n",
      " 4   Country  144 non-null    object \n",
      " 5   Gender   144 non-null    int64  \n",
      "dtypes: float64(2), int64(1), object(3)\n",
      "memory usage: 7.9+ KB\n",
      "None\n",
      "\n",
      "Summary Statistics:\n",
      "              Age       Salary      Gender\n",
      "count  127.000000   121.000000  144.000000\n",
      "mean    30.527559  5283.471074    0.222222\n",
      "std     11.114717  2585.373600    0.417191\n",
      "min      0.000000  1089.000000    0.000000\n",
      "25%     22.000000  3030.000000    0.000000\n",
      "50%     33.000000  5000.000000    0.000000\n",
      "75%     37.500000  8000.000000    0.000000\n",
      "max     54.000000  9876.000000    1.000000\n",
      "\n",
      "Missing Values in Each Column:\n",
      "Company     8\n",
      "Age        17\n",
      "Salary     23\n",
      "Place      14\n",
      "Country     0\n",
      "Gender      0\n",
      "dtype: int64\n",
      "\n",
      "Number of duplicate rows: 0\n"
     ]
    }
   ],
   "source": [
    "print(\"First 10 rows of the dataset:\")\n",
    "print(df.head(10))\n",
    "\n",
    "# Shape of the dataset\n",
    "print(\"\\nNumber of rows and columns:\", df.shape)\n",
    "\n",
    "# Data types and non-null counts\n",
    "print(\"\\nData Types and Missing Values:\")\n",
    "print(df.info())\n",
    "\n",
    "# Summary statistics for numerical columns\n",
    "print(\"\\nSummary Statistics:\")\n",
    "print(df.describe())\n",
    "\n",
    "# Count missing values in each column\n",
    "print(\"\\nMissing Values in Each Column:\")\n",
    "print(df.isnull().sum())\n",
    "\n",
    "# Check for duplicate rows\n",
    "print(\"\\nNumber of duplicate rows:\", df.duplicated().sum())\n",
    "# to remove duplicates\n",
    "df = df.drop_duplicates()\n",
    "\n"
   ]
  },
  {
   "cell_type": "code",
   "execution_count": 7,
   "id": "ec779e19-e498-4509-a464-344ff7f8f894",
   "metadata": {},
   "outputs": [
    {
     "name": "stdout",
     "output_type": "stream",
     "text": [
      "Column: Company\n",
      "Unique values: ['TCS' 'Infosys' 'CTS' nan 'Tata Consultancy Services' 'Congnizant'\n",
      " 'Infosys Pvt Lmt']\n",
      "Number of unique values: 7\n",
      "\n",
      "\n",
      "Column: Age\n",
      "Unique values: [20. 30. 35. 40. 23. nan 34. 45. 18. 22. 32. 37. 50. 21. 46. 36. 26. 41.\n",
      " 24. 25. 43. 19. 38. 51. 31. 44. 33. 17.  0. 54.]\n",
      "Number of unique values: 30\n",
      "\n",
      "\n",
      "Column: Salary\n",
      "Unique values: [  nan 2300. 3000. 4000. 5000. 6000. 7000. 8000. 9000. 1089. 1234. 3030.\n",
      " 3045. 3184. 4824. 5835. 7084. 8943. 8345. 9284. 9876. 2034. 7654. 2934.\n",
      " 4034. 5034. 8202. 9024. 4345. 6544. 6543. 3234. 4324. 5435. 5555. 8787.\n",
      " 3454. 5654. 5009. 5098. 3033.]\n",
      "Number of unique values: 41\n",
      "\n",
      "\n",
      "Column: Place\n",
      "Unique values: ['Chennai' 'Mumbai' 'Calcutta' 'Delhi' 'Podicherry' 'Cochin' nan 'Noida'\n",
      " 'Hyderabad' 'Bhopal' 'Nagpur' 'Pune']\n",
      "Number of unique values: 12\n",
      "\n",
      "\n",
      "Column: Country\n",
      "Unique values: ['India']\n",
      "Number of unique values: 1\n",
      "\n",
      "\n",
      "Column: Gender\n",
      "Unique values: [0 1]\n",
      "Number of unique values: 2\n",
      "\n",
      "\n"
     ]
    }
   ],
   "source": [
    "## to get unique values in each column\n",
    "for col in df.columns:\n",
    "    print(f\"Column: {col}\")\n",
    "    print(\"Unique values:\", df[col].unique())\n",
    "    print(\"Number of unique values:\", len(df[col].unique()))\n",
    "    print(\"\\n\")"
   ]
  },
  {
   "cell_type": "code",
   "execution_count": 9,
   "id": "beea917e-73ee-4438-9a02-b837a3725efd",
   "metadata": {},
   "outputs": [
    {
     "name": "stdout",
     "output_type": "stream",
     "text": [
      "\n",
      "Renamed Columns: ['company', 'age', 'salary', 'place', 'country', 'gender']\n"
     ]
    }
   ],
   "source": [
    "## Rename columns to lowercase with underscores\n",
    "df.columns = [c.strip().lower().replace(' ', '_') for c in df.columns]\n",
    "print(\"\\nRenamed Columns:\", df.columns.tolist())\n"
   ]
  },
  {
   "cell_type": "code",
   "execution_count": 11,
   "id": "27a25644-a873-4217-ab06-5b3e8cf1e9e2",
   "metadata": {},
   "outputs": [
    {
     "name": "stdout",
     "output_type": "stream",
     "text": [
      "company\n",
      "TCS                          52\n",
      "Infosys                      43\n",
      "CTS                          35\n",
      "Tata Consultancy Services     2\n",
      "Congnizant                    2\n",
      "Infosys Pvt Lmt               2\n",
      "Name: count, dtype: int64\n",
      "age\n",
      "22.0    15\n",
      "33.0    13\n",
      "44.0    10\n",
      "23.0     8\n",
      "34.0     8\n",
      "32.0     7\n",
      "21.0     7\n",
      "35.0     6\n",
      "0.0      6\n",
      "41.0     5\n",
      "45.0     4\n",
      "24.0     4\n",
      "20.0     3\n",
      "31.0     3\n",
      "43.0     3\n",
      "25.0     3\n",
      "36.0     3\n",
      "40.0     3\n",
      "26.0     2\n",
      "30.0     2\n",
      "46.0     2\n",
      "50.0     2\n",
      "37.0     2\n",
      "19.0     1\n",
      "38.0     1\n",
      "51.0     1\n",
      "18.0     1\n",
      "17.0     1\n",
      "54.0     1\n",
      "Name: count, dtype: int64\n",
      "salary\n",
      "3000.0    9\n",
      "5000.0    6\n",
      "8202.0    5\n",
      "5034.0    5\n",
      "4034.0    5\n",
      "2300.0    4\n",
      "7084.0    4\n",
      "9024.0    4\n",
      "2934.0    4\n",
      "9284.0    4\n",
      "8345.0    4\n",
      "8943.0    4\n",
      "2034.0    4\n",
      "3184.0    4\n",
      "3045.0    4\n",
      "1234.0    4\n",
      "1089.0    4\n",
      "4824.0    3\n",
      "5835.0    3\n",
      "3030.0    3\n",
      "8787.0    3\n",
      "9000.0    3\n",
      "8000.0    3\n",
      "7000.0    3\n",
      "6000.0    3\n",
      "3234.0    2\n",
      "4000.0    2\n",
      "7654.0    2\n",
      "9876.0    2\n",
      "4345.0    1\n",
      "6544.0    1\n",
      "6543.0    1\n",
      "4324.0    1\n",
      "5435.0    1\n",
      "5555.0    1\n",
      "3454.0    1\n",
      "5654.0    1\n",
      "5009.0    1\n",
      "5098.0    1\n",
      "3033.0    1\n",
      "Name: count, dtype: int64\n",
      "place\n",
      "Mumbai        34\n",
      "Calcutta      32\n",
      "Chennai       14\n",
      "Delhi         14\n",
      "Cochin        13\n",
      "Noida          8\n",
      "Hyderabad      8\n",
      "Podicherry     3\n",
      "Pune           2\n",
      "Bhopal         1\n",
      "Nagpur         1\n",
      "Name: count, dtype: int64\n",
      "country\n",
      "India    144\n",
      "Name: count, dtype: int64\n",
      "gender\n",
      "0    112\n",
      "1     32\n",
      "Name: count, dtype: int64\n"
     ]
    }
   ],
   "source": [
    "for col in df.columns:\n",
    " print(df[col]. value_counts())\n",
    "  "
   ]
  },
  {
   "cell_type": "code",
   "execution_count": 15,
   "id": "f9954268-d805-42b5-9afb-e7fd60565a14",
   "metadata": {},
   "outputs": [],
   "source": [
    "#  age == 0 as NaN \n",
    "if 'age' in df.columns:\n",
    "    df['age'] = df['age'].replace(0, np.nan)"
   ]
  },
  {
   "cell_type": "code",
   "execution_count": 17,
   "id": "67ccfe0c-739a-47ae-8708-091257c38eaa",
   "metadata": {},
   "outputs": [
    {
     "name": "stdout",
     "output_type": "stream",
     "text": [
      "\n",
      "Missing values before: company     8\n",
      "age        23\n",
      "salary     23\n",
      "place      14\n",
      "country     0\n",
      "gender      0\n",
      "dtype: int64\n",
      "Missing values after: company    0\n",
      "age        0\n",
      "salary     0\n",
      "place      0\n",
      "country    0\n",
      "gender     0\n",
      "dtype: int64\n"
     ]
    },
    {
     "name": "stderr",
     "output_type": "stream",
     "text": [
      "C:\\Users\\USER\\AppData\\Local\\Temp\\ipykernel_5936\\296840392.py:6: FutureWarning: A value is trying to be set on a copy of a DataFrame or Series through chained assignment using an inplace method.\n",
      "The behavior will change in pandas 3.0. This inplace method will never work because the intermediate object on which we are setting values always behaves as a copy.\n",
      "\n",
      "For example, when doing 'df[col].method(value, inplace=True)', try using 'df.method({col: value}, inplace=True)' or df[col] = df[col].method(value) instead, to perform the operation inplace on the original object.\n",
      "\n",
      "\n",
      "  df[col].fillna(df[col].mode()[0], inplace=True)\n",
      "C:\\Users\\USER\\AppData\\Local\\Temp\\ipykernel_5936\\296840392.py:8: FutureWarning: A value is trying to be set on a copy of a DataFrame or Series through chained assignment using an inplace method.\n",
      "The behavior will change in pandas 3.0. This inplace method will never work because the intermediate object on which we are setting values always behaves as a copy.\n",
      "\n",
      "For example, when doing 'df[col].method(value, inplace=True)', try using 'df.method({col: value}, inplace=True)' or df[col] = df[col].method(value) instead, to perform the operation inplace on the original object.\n",
      "\n",
      "\n",
      "  df[col].fillna(df[col].median(), inplace=True)\n"
     ]
    }
   ],
   "source": [
    "##Find and treat missing values\n",
    "print(\"\\nMissing values before:\", df.isnull().sum())\n",
    "for col in df.columns:\n",
    "    if df[col].isnull().any():\n",
    "        if df[col].dtype == 'object':\n",
    "            df[col].fillna(df[col].mode()[0], inplace=True)\n",
    "        else:\n",
    "            df[col].fillna(df[col].median(), inplace=True)\n",
    "print(\"Missing values after:\", df.isnull().sum())\n"
   ]
  },
  {
   "cell_type": "code",
   "execution_count": 19,
   "id": "e7d3abda-1f88-4aa7-920d-1485a8fbf74e",
   "metadata": {},
   "outputs": [
    {
     "name": "stdout",
     "output_type": "stream",
     "text": [
      "Outliers in age: 0\n",
      "Outliers in salary: 0\n"
     ]
    }
   ],
   "source": [
    "###Detect outliers using IQR (example for age and salary)\n",
    "for col in ['age', 'salary']:\n",
    "    Q1 = df[col].quantile(0.25)\n",
    "    Q3 = df[col].quantile(0.75)\n",
    "    IQR = Q3 - Q1\n",
    "    lower = Q1 - 1.5 * IQR\n",
    "    upper = Q3 + 1.5 * IQR\n",
    "    print(f\"Outliers in {col}:\", ((df[col] < lower) | (df[col] > upper)).sum())"
   ]
  },
  {
   "cell_type": "code",
   "execution_count": 23,
   "id": "d18c6d5f-c01e-48c0-a6bc-a5962102d16f",
   "metadata": {},
   "outputs": [
    {
     "name": "stdout",
     "output_type": "stream",
     "text": [
      "Filtered Rows: 15\n",
      "     company   age  salary      place country  gender\n",
      "21   Infosys  50.0  3184.0      Delhi   India       0\n",
      "32   Infosys  45.0  4034.0   Calcutta   India       0\n",
      "39   Infosys  41.0  3000.0     Mumbai   India       0\n",
      "50   Infosys  41.0  3000.0    Chennai   India       0\n",
      "57   Infosys  51.0  3184.0  Hyderabad   India       0\n",
      "68   Infosys  43.0  4034.0     Mumbai   India       0\n",
      "75   Infosys  44.0  3000.0     Cochin   India       0\n",
      "86   Infosys  41.0  3000.0      Delhi   India       0\n",
      "93   Infosys  54.0  3184.0     Mumbai   India       0\n",
      "104  Infosys  44.0  4034.0      Delhi   India       0\n",
      "122  Infosys  44.0  3234.0     Mumbai   India       0\n",
      "129  Infosys  50.0  3184.0   Calcutta   India       0\n",
      "138      CTS  44.0  3033.0     Cochin   India       0\n",
      "140  Infosys  44.0  4034.0  Hyderabad   India       0\n",
      "145  Infosys  44.0  4034.0      Delhi   India       1\n"
     ]
    }
   ],
   "source": [
    " ##Filter\n",
    "filtered = df[(df['age'] > 40) & (df['salary'] < 5000)]\n",
    "print(\"Filtered Rows:\", filtered.shape[0])\n",
    "print(filtered)\n"
   ]
  },
  {
   "cell_type": "code",
   "execution_count": 25,
   "id": "9530e4e2-07d3-4dec-a5a8-f2030756fe0b",
   "metadata": {},
   "outputs": [
    {
     "data": {
      "image/png": "[encoded data removed]",
      "text/plain": [
       "<Figure size 640x480 with 1 Axes>"
      ]
     },
     "metadata": {},
     "output_type": "display_data"
    }
   ],
   "source": [
    "##Scatter plot: age vs salary\n",
    "sns.scatterplot(x=filtered['age'], y=filtered['salary'])\n",
    "plt.title(\"Age vs Salary (Age > 40 & Salary < 5000)\")\n",
    "plt.show()"
   ]
  },
  {
   "cell_type": "code",
   "execution_count": 27,
   "id": "cd5a0b83-fcbe-4822-a5ee-526962e117bf",
   "metadata": {},
   "outputs": [
    {
     "data": {
      "image/png": "[encoded data removed]",
      "text/plain": [
       "<Figure size 640x480 with 1 Axes>"
      ]
     },
     "metadata": {},
     "output_type": "display_data"
    }
   ],
   "source": [
    "##Count of people by place\n",
    "if 'place' in df.columns:\n",
    "    counts = df['place'].value_counts()\n",
    "    sns.barplot(x=counts.index, y=counts.values)\n",
    "    plt.xticks(rotation=45)\n",
    "    plt.title(\"Count by Place\")\n",
    "    plt.show()"
   ]
  },
  {
   "cell_type": "code",
   "execution_count": 29,
   "id": "6330898d-2927-43f4-92ad-8b33652ba2fb",
   "metadata": {},
   "outputs": [
    {
     "name": "stdout",
     "output_type": "stream",
     "text": [
      "Mapping for company: {'CTS': 0, 'Congnizant': 1, 'Infosys': 2, 'Infosys Pvt Lmt': 3, 'TCS': 4, 'Tata Consultancy Services': 5}\n",
      "Mapping for place: {'Bhopal': 0, 'Calcutta': 1, 'Chennai': 2, 'Cochin': 3, 'Delhi': 4, 'Hyderabad': 5, 'Mumbai': 6, 'Nagpur': 7, 'Noida': 8, 'Podicherry': 9, 'Pune': 10}\n",
      "Mapping for country: {'India': 0}\n"
     ]
    }
   ],
   "source": [
    "## data encoding\n",
    "from sklearn.preprocessing import LabelEncoder\n",
    "\n",
    "cat_cols = df.select_dtypes(include='object').columns\n",
    "le = LabelEncoder()\n",
    "\n",
    "# Label encode\n",
    "for col in cat_cols:\n",
    "    df[col + '_label'] = le.fit_transform(df[col])\n",
    "    print(f\"Mapping for {col}:\", dict(zip(le.classes_, le.transform(le.classes_))))\n"
   ]
  },
  {
   "cell_type": "code",
   "execution_count": 33,
   "id": "139314a3-94ba-4cbf-ad5f-5baa54022bd3",
   "metadata": {},
   "outputs": [
    {
     "name": "stdout",
     "output_type": "stream",
     "text": [
      "Scaled numeric columns. Sample data:\n",
      "         age    salary    gender\n",
      "0 -1.484676 -0.100827 -0.534522\n",
      "1 -0.267174 -0.100827 -0.534522\n",
      "2  0.341577 -1.243735 -0.534522\n",
      "3  0.950328 -0.947426 -0.534522\n",
      "4 -1.119426 -0.524127 -0.534522\n"
     ]
    }
   ],
   "source": [
    "##scaling\n",
    "from sklearn.preprocessing import StandardScaler, MinMaxScaler\n",
    "\n",
    "num_cols = df.select_dtypes(include=['int64', 'float64']).columns\n",
    "\n",
    "# StandardScaler\n",
    "scaler = StandardScaler()\n",
    "df[num_cols] = scaler.fit_transform(df[num_cols])\n",
    "print(\"Scaled numeric columns. Sample data:\\n\", df[num_cols].head())\n",
    "\n"
   ]
  },
  {
   "cell_type": "code",
   "execution_count": null,
   "id": "6a964312-be8b-40dc-b6df-a6084972e784",
   "metadata": {},
   "outputs": [],
   "source": []
  }
 ],
 "metadata": {
  "kernelspec": {
   "display_name": "Python [conda env:anaconda3] *",
   "language": "python",
   "name": "conda-env-anaconda3-py"
  },
  "language_info": {
   "codemirror_mode": {
    "name": "ipython",
    "version": 3
   },
   "file_extension": ".py",
   "mimetype": "text/x-python",
   "name": "python",
   "nbconvert_exporter": "python",
   "pygments_lexer": "ipython3",
   "version": "3.12.7"
  }
 },
 "nbformat": 4,
 "nbformat_minor": 5
}
